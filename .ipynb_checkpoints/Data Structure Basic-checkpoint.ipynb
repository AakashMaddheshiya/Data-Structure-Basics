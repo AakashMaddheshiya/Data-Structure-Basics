{
 "cells": [
  {
   "cell_type": "markdown",
   "id": "0130a03e",
   "metadata": {},
   "source": [
    "# Q1 Discuss string slicing and provide examples."
   ]
  },
  {
   "cell_type": "code",
   "execution_count": null,
   "id": "f0c93f02",
   "metadata": {},
   "outputs": [],
   "source": [
    "# String slicing is a powerful technique in Python that allows you to extract specific portions of a string.\n",
    "# It's a way to create substrings from a given string by specifying the starting and ending positions.\n",
    "\n",
    "\n",
    "# 1 Indexing: Each character in a string has an index, starting from 0 for the first character.\n",
    "# 2 Slicing Operator: You use the : operator to specify the range of indices you want to extract.\n",
    "# 3 Syntax: string[start:end:step]\n",
    "\n",
    "\n",
    "string = \"Hello, World!\"\n",
    "\n",
    "# Extract the first word\n",
    "first_word = string[:5]  \n",
    "print(first_word)\n",
    "\n",
    "# Extract the last word\n",
    "last_word = string[7:]\n",
    "print(last_word)\n",
    "\n",
    "# Extract every other character\n",
    "every_other = string[::2]\n",
    "print(every_other)\n",
    "\n",
    "# Reverse the string\n",
    "reversed_string = string[::-1]\n",
    "print(reversed_string)\n",
    "\n",
    "# Extract characters from index 2 to 5 (exclusive)\n",
    "substring = string[2:5] \n",
    "print(substring)\n"
   ]
  },
  {
   "cell_type": "markdown",
   "id": "3a1ebe87",
   "metadata": {},
   "source": [
    "# Q2 Explain the key features of lists in Python"
   ]
  },
  {
   "cell_type": "code",
   "execution_count": 3,
   "id": "d0cf15b6",
   "metadata": {},
   "outputs": [],
   "source": [
    "# 1. Ordered Collection:\n",
    "# Indexing: Each element in a list has a specific index, starting from 0.\n",
    "# Slicing: You can extract subsets of elements using slicing operations.\n",
    "# Iteration: Lists are iterable, allowing you to loop through their elements.\n",
    "    \n",
    "# 2. Mutable:\n",
    "# Modification: You can change the elements of a list after it's created.\n",
    "# Appending: Add elements to the end of a list using append().\n",
    "# Inserting: Insert elements at specific positions using insert().\n",
    "# Removing: Remove elements using remove() or pop().\n",
    "    \n",
    "# 3. Heterogeneous:\n",
    "# Mixed Data Types: Lists can contain elements of different data types (Example integers, strings, floats).\n",
    "    \n",
    "# 4. Dynamically Sized:\n",
    "# No Fixed Size: Lists can grow or shrink as needed to accommodate new elements.\n",
    "    \n",
    "# 5. Nested Lists:\n",
    "# Multidimensional Data: Lists can contain other lists, creating nested structures for representing matrices, grids, or more complex data.\n",
    "    \n",
    "# 6. Methods and Functions:\n",
    "# Built-in Methods: Python provides numerous methods like len(), sort(), reverse(), count(), and more to manipulate lists.\n",
    "# Functions: You can use functions to perform operations on lists, such as filtering, mapping, and reducing.\n",
    "    \n",
    "# 7. Memory Management:\n",
    "# Automatic Allocation and Deallocation: Python's memory management system handles the creation and destruction of lists automatically."
   ]
  },
  {
   "cell_type": "markdown",
   "id": "29631df4",
   "metadata": {},
   "source": [
    "# Q3 Describe how to access, modify, and delete elements in a list with examples"
   ]
  },
  {
   "cell_type": "code",
   "execution_count": 4,
   "id": "36896680",
   "metadata": {},
   "outputs": [
    {
     "name": "stdout",
     "output_type": "stream",
     "text": [
      "10\n",
      "[10, 20, 50, 40]\n",
      "[10, 15, 20, 50, 40]\n",
      "[10, 15, 50, 40]\n",
      "20\n",
      "[10, 15, 40]\n",
      "[10]\n"
     ]
    }
   ],
   "source": [
    "# Accessing Elements in a List\n",
    "# Indexing:\n",
    "\n",
    "# Each element in a list has a unique index, starting from 0.\n",
    "# Use square brackets [] to access an element by its index.\n",
    "# Example:\n",
    "my_list = [10, 20, 30, 40]\n",
    "print(my_list[0]) \n",
    "\n",
    "# Modifying Elements in a List\n",
    "# Assign a new value to an element using its index.\n",
    "# Example:\n",
    "my_list[2] = 50\n",
    "print(my_list) \n",
    "\n",
    "# Using insert():\n",
    "\n",
    "# Insert an element at a specific position in the list.\n",
    "# Example:\n",
    "\n",
    "my_list.insert(1, 15)\n",
    "print(my_list)\n",
    "\n",
    "\n",
    "# Deleting Elements in a List\n",
    "# Using pop():\n",
    "\n",
    "# Remove and return an element at a specific index.\n",
    "\n",
    "removed_element = my_list.pop(2)\n",
    "print(my_list)\n",
    "print(removed_element)  \n",
    "\n",
    "# Using remove():\n",
    "\n",
    "# Remove the first occurrence of a specific value.\n",
    "# Example:\n",
    "\n",
    "my_list.remove(50)\n",
    "print(my_list) \n",
    "\n",
    "\n",
    "# Using del:\n",
    "\n",
    "# Delete an element or a range of elements using the del keyword.\n",
    "# Example:\n",
    "\n",
    "del my_list[1:3]\n",
    "print(my_list)  "
   ]
  },
  {
   "cell_type": "markdown",
   "id": "8e681771",
   "metadata": {},
   "source": [
    "# Q4 Compare and contrast tuples and lists with examples."
   ]
  },
  {
   "cell_type": "code",
   "execution_count": 7,
   "id": "0c08aab7",
   "metadata": {},
   "outputs": [
    {
     "name": "stdout",
     "output_type": "stream",
     "text": [
      "(1, 2, 3, 'hello')\n",
      "[10, 20, 30, 'world']\n"
     ]
    }
   ],
   "source": [
    "# Tuples\n",
    "# Immutable: Once created, tuples cannot be modified.\n",
    "# Enclosed in parentheses (): Elements are separated by commas.\n",
    "# Used for:\n",
    "# Storing immutable data (e.g., coordinates, configuration settings)\n",
    "# Creating keys for dictionaries\n",
    "# Returning multiple values from a function\n",
    "# Example:\n",
    "my_tuple = (1, 2, 3, \"hello\")\n",
    "print(my_tuple)\n",
    "\n",
    "\n",
    "# Lists\n",
    "# Mutable: Elements can be added, removed, or modified.\n",
    "# Enclosed in square brackets []: Elements are separated by commas.\n",
    "# Used for:\n",
    "# Storing dynamic data that needs to be changed\n",
    "# Creating lists of elements for iteration\n",
    "# Representing collections of related items\n",
    "# Example:\n",
    "my_list = [10, 20, 30, \"world\"]\n",
    "print(my_list)\n",
    "\n"
   ]
  },
  {
   "cell_type": "markdown",
   "id": "89bd7c24",
   "metadata": {},
   "source": [
    "# Q5 Describe the key features of sets and provide examples of their use.\n",
    "\n"
   ]
  },
  {
   "cell_type": "code",
   "execution_count": 13,
   "id": "ac30e6c8",
   "metadata": {},
   "outputs": [
    {
     "name": "stdout",
     "output_type": "stream",
     "text": [
      "{1, 2, 3, 'banana', 'apple'}\n",
      "{1, 2, 3, 4, 'banana', 'apple'}\n",
      "{1, 3, 4, 'banana', 'apple'}\n",
      "{1, 2, 3, 4, 5}\n",
      "{3}\n",
      "{1, 2}\n",
      "{1, 2, 4, 5}\n"
     ]
    }
   ],
   "source": [
    "# Key Features of Sets:\n",
    "# Unordered: Elements in a set do not have a specific order, unlike lists and tuples.\n",
    "# Unique Elements: Sets only contain unique elements. Duplicate elements are automatically removed.\n",
    "# Mutable: Sets can be modified by adding or removing elements.\n",
    "# No Indexing: Since sets are unordered, you cannot access elements by their index.\n",
    "# Set Operations: Sets support various mathematical operations like union, intersection, difference, and symmetric difference.\n",
    " \n",
    "# Creating a set\n",
    "my_set = {1, 2, 3, \"apple\", \"banana\"}\n",
    "print(my_set)\n",
    "\n",
    "# Adding Elements\n",
    "my_set.add(4)\n",
    "print(my_set)\n",
    "\n",
    "# Removing Elements\n",
    "my_set.remove(2)  \n",
    "my_set.discard(5)\n",
    "print(my_set)\n",
    "\n",
    "# Set Operations:\n",
    "# Union: | or union()\n",
    "\n",
    "set1 = {1, 2, 3}\n",
    "set2 = {3, 4, 5}\n",
    "union_set = set1 | set2\n",
    "print(union_set) \n",
    "\n",
    "# Intersection: & or intersection()\n",
    "intersection_set = set1 & set2 \n",
    "print(intersection_set)  \n",
    "\n",
    "# Difference: - or difference()\n",
    "difference_set = set1 - set2 \n",
    "print(difference_set)  \n",
    "\n",
    "# Symmetric Difference: ^ or symmetric_difference()\n",
    "symmetric_difference_set = set1 ^ set2\n",
    "print(symmetric_difference_set)  \n"
   ]
  },
  {
   "cell_type": "markdown",
   "id": "c1e8f844",
   "metadata": {},
   "source": [
    "# Q6 Discuss the use cases of tuples and sets in Python programming.\n",
    "\n"
   ]
  },
  {
   "cell_type": "code",
   "execution_count": 3,
   "id": "74ab8538",
   "metadata": {},
   "outputs": [
    {
     "name": "stdout",
     "output_type": "stream",
     "text": [
      "2023\n",
      "12\n",
      "25\n",
      "Apple is present\n"
     ]
    }
   ],
   "source": [
    "# Tuples\n",
    "# Characteristics:\n",
    "\n",
    "# Immutable: Once created, the elements of a tuple cannot be modified.\n",
    "# Ordered: Elements are stored in a specific order and can be accessed by their index.\n",
    "# Heterogeneous: Can contain elements of different data types.\n",
    "# Supports indexing and slicing.\n",
    "\n",
    "\n",
    "# Use Cases:\n",
    "\n",
    "# Representing immutable data: When you need to store data that should not be changed, such as coordinates, dates, or configuration settings.\n",
    "# Creating lookup tables: Tuples can be used as keys in dictionaries for efficient lookups.\n",
    "# Returning multiple values from a function: A function can return a tuple to represent multiple results.\n",
    "# Unpacking values: Tuples can be unpacked into individual variables for convenient manipulation.\n",
    "# Example:\n",
    "coordinates = (2, 3)\n",
    "date = (2023, 12, 25)\n",
    "config = (\"debug\", True)\n",
    "\n",
    "x, y = coordinates\n",
    "year, month, day = date\n",
    "print(year)\n",
    "print(month)\n",
    "print(day)\n",
    "\n",
    "# Sets\n",
    "# Characteristics:\n",
    "\n",
    "# Unordered: Elements are not stored in a specific order.\n",
    "# Unique: Sets cannot contain duplicate elements.\n",
    "# Mutable: Elements can be added or removed from a set.\n",
    "# Heterogeneous: Can contain elements of different data types.\n",
    "# Supports set operations: Union, intersection, difference, and symmetric difference.\n",
    "# Use Cases:\n",
    "\n",
    "# Removing duplicates from a list: Sets can be used to efficiently remove duplicate elements.\n",
    "# Checking membership: Quickly determine if an element is present in a set.\n",
    "# Performing set operations: Implement mathematical set operations like union, intersection, and difference.\n",
    "# Graph algorithms: Sets are often used in graph algorithms to represent vertices and edges.\n",
    "# Example:\n",
    "\n",
    "numbers = {1, 2, 3, 4, 3, 2}  # set does not hold duplicates\n",
    "fruits = {\"apple\", \"banana\", \"orange\"}\n",
    "if \"apple\" in fruits:\n",
    "    print(\"Apple is present\")"
   ]
  },
  {
   "cell_type": "markdown",
   "id": "b3695979",
   "metadata": {},
   "source": [
    "# Q7 Describe how to add, modify, and delete items in a dictionary with examples."
   ]
  },
  {
   "cell_type": "code",
   "execution_count": 6,
   "id": "a44ef264",
   "metadata": {},
   "outputs": [
    {
     "name": "stdout",
     "output_type": "stream",
     "text": [
      "{'a': 1, 'b': 2, 'c': 3, 'd': 4, 'e': 5}\n",
      "{'a': 1, 'b': 10, 'c': 3, 'd': 4, 'e': 5}\n",
      "5\n",
      "{'a': 1, 'b': 10, 'c': 3}\n",
      "c 3\n",
      "{'a': 1, 'b': 10}\n",
      "{}\n"
     ]
    }
   ],
   "source": [
    "# Adding Items\n",
    "# Direct assignment: Assign a new value to a key that doesn't exist in the dictionary.\n",
    "# update() method: Merge another dictionary or iterable of key-value pairs into the existing dictionary.\n",
    "# Example:\n",
    "\n",
    "my_dict = {'a': 1, 'b': 2}\n",
    "\n",
    "# Adding a new key-value pair\n",
    "my_dict['c'] = 3\n",
    "\n",
    "# Adding multiple key-value pairs from another dictionary\n",
    "other_dict = {'d': 4, 'e': 5}\n",
    "my_dict.update(other_dict)\n",
    "\n",
    "print(my_dict) \n",
    "\n",
    "\n",
    "# Modifying Items\n",
    "# Direct assignment: Assign a new value to an existing key.\n",
    "# Example:\n",
    "my_dict['b'] = 10\n",
    "print(my_dict)  \n",
    "\n",
    "\n",
    "# Deleting Items\n",
    "# del statement: Delete a key-value pair using the del keyword.\n",
    "# pop() method: Remove a key-value pair and return its value.\n",
    "# popitem() method: Remove and return an arbitrary key-value pair as a tuple.\n",
    "# clear() method: Remove all items from the dictionary.\n",
    "# Example:\n",
    "\n",
    "# Deleting a specific key-value pair\n",
    "del my_dict['d']\n",
    "\n",
    "# Removing a key-value pair and returning its value\n",
    "value = my_dict.pop('e')\n",
    "print(value) \n",
    "print(my_dict)\n",
    "\n",
    "# Removing an arbitrary key-value pair\n",
    "key, value = my_dict.popitem()\n",
    "print(key, value)  \n",
    "print(my_dict)\n",
    "\n",
    "# Clearing the dictionary\n",
    "my_dict.clear()\n",
    "print(my_dict)  "
   ]
  },
  {
   "cell_type": "markdown",
   "id": "51b410d5",
   "metadata": {},
   "source": [
    "# Discuss the importance of dictionary keys being immutable and provide examples."
   ]
  },
  {
   "cell_type": "code",
   "execution_count": 7,
   "id": "022c17e2",
   "metadata": {},
   "outputs": [
    {
     "ename": "TypeError",
     "evalue": "unhashable type: 'list'",
     "output_type": "error",
     "traceback": [
      "\u001b[1;31m---------------------------------------------------------------------------\u001b[0m",
      "\u001b[1;31mTypeError\u001b[0m                                 Traceback (most recent call last)",
      "\u001b[1;32m~\\AppData\\Local\\Temp\\ipykernel_13572\\1631160703.py\u001b[0m in \u001b[0;36m<module>\u001b[1;34m\u001b[0m\n\u001b[0;32m     21\u001b[0m \u001b[1;31m# Example:\u001b[0m\u001b[1;33m\u001b[0m\u001b[1;33m\u001b[0m\u001b[0m\n\u001b[0;32m     22\u001b[0m \u001b[1;33m\u001b[0m\u001b[0m\n\u001b[1;32m---> 23\u001b[1;33m my_dict = {\n\u001b[0m\u001b[0;32m     24\u001b[0m     \u001b[1;33m[\u001b[0m\u001b[1;36m1\u001b[0m\u001b[1;33m,\u001b[0m \u001b[1;36m2\u001b[0m\u001b[1;33m,\u001b[0m \u001b[1;36m3\u001b[0m\u001b[1;33m]\u001b[0m\u001b[1;33m:\u001b[0m \u001b[1;34m\"list key\"\u001b[0m\u001b[1;33m,\u001b[0m\u001b[1;33m\u001b[0m\u001b[1;33m\u001b[0m\u001b[0m\n\u001b[0;32m     25\u001b[0m     \u001b[1;34m\"string key\"\u001b[0m\u001b[1;33m:\u001b[0m \u001b[1;34m\"string value\"\u001b[0m\u001b[1;33m\u001b[0m\u001b[1;33m\u001b[0m\u001b[0m\n",
      "\u001b[1;31mTypeError\u001b[0m: unhashable type: 'list'"
     ]
    }
   ],
   "source": [
    "# The Importance of Immutable Dictionary Keys\n",
    "# In Python, dictionaries are collections of key-value pairs. The keys must be immutable objects, meaning they cannot be changed after they are created. This constraint is crucial for the efficient operation of dictionaries and the integrity of their data.   \n",
    "\n",
    "\n",
    "# Why Immutable Keys?\n",
    "# Hashing: Dictionaries use hashing to store and retrieve values efficiently. Hash functions are designed to produce consistent hash values for immutable objects. If keys were mutable, their hash values could change, leading to unpredictable behavior and potential data corruption.   \n",
    "# Indexing: Dictionaries use hash values to index their elements. Immutable keys ensure that the index remains constant, allowing for fast and reliable lookups.   \n",
    "# Comparison: Dictionaries use key equality to determine if two elements are the same. Immutable keys guarantee that the comparison operation will always yield consistent results.\n",
    "# Data Integrity: Immutable keys prevent accidental modifications that could corrupt the dictionary's structure or data.\n",
    "\n",
    "\n",
    "# Examples of Immutable Keys\n",
    "# Numbers: Integers, floats, and complex numbers are immutable.   \n",
    "# Strings: Strings are immutable sequences of characters.   \n",
    "# Tuples: Tuples are immutable collections of elements.   \n",
    "# Frozen sets: Frozen sets are immutable sets.   \n",
    "\n",
    "\n",
    "# Implications of Mutable Keys\n",
    "# If you attempt to use a mutable object as a dictionary key, Python will raise a TypeError. This is a safety mechanism to prevent potential data corruption.\n",
    "\n",
    "# Example:\n",
    "my_dict = {\n",
    "    [1, 2, 3]: \"list key\",\n",
    "    \"string key\": \"string value\"\n",
    "}\n",
    "print(my_dict)"
   ]
  },
  {
   "cell_type": "code",
   "execution_count": null,
   "id": "1c409602",
   "metadata": {},
   "outputs": [],
   "source": []
  }
 ],
 "metadata": {
  "kernelspec": {
   "display_name": "Python 3 (ipykernel)",
   "language": "python",
   "name": "python3"
  },
  "language_info": {
   "codemirror_mode": {
    "name": "ipython",
    "version": 3
   },
   "file_extension": ".py",
   "mimetype": "text/x-python",
   "name": "python",
   "nbconvert_exporter": "python",
   "pygments_lexer": "ipython3",
   "version": "3.9.13"
  }
 },
 "nbformat": 4,
 "nbformat_minor": 5
}
